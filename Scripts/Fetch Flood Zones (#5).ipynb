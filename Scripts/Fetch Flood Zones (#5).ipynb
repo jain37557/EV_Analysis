{
 "cells": [
  {
   "cell_type": "markdown",
   "metadata": {},
   "source": [
    "# GIS Practicum: Energy \n",
    "## Citing Optimal EV DCFC Locations in North Carolina\n",
    "#### Abhishek Sanjay Jain, Duke University Nicholas School of the Environment (aj297@duke.edu) \n",
    "Code: Extract Flood Zone Classes for all sites (#5)\n",
    "\n",
    "Purpose: We fetch the exits data to understand where can these DCFCs be placed along highway corrdiors to minimize range anxiety to support growth of EVs in North Carolina. \n",
    "\n",
    "Methodology: \n",
    "1. Import ArcGIS FeatureLayer and GeoAccessor class to obtain .shp files\n",
    "2. Putting the chargers in flood zones may be a potential risk for the chargers given their electric nature and hence we decided to avoid them. \n",
    "3. This data is available as an Online Imagery Layer on a ESRI REST Endpoint. \n",
    "4. Since this is an imagery service, data is embedded on pixel scale instead of geofeatures like points or polygons. \n",
    "5. We shall therefore use Python API to access this data given GeoPandas will not be best suited for this operation. "
   ]
  },
  {
   "cell_type": "code",
   "execution_count": 1,
   "metadata": {},
   "outputs": [
    {
     "name": "stderr",
     "output_type": "stream",
     "text": [
      "/opt/conda/lib/python3.7/site-packages/arcgis/features/_data/geodataset/utils.py:16: FutureWarning: The pandas.datetime class is deprecated and will be removed from pandas in a future version. Import from datetime module instead.\n",
      "  pd.datetime,\n"
     ]
    }
   ],
   "source": [
    "#Import the necessary packages and components \n",
    "from arcgis import GIS\n",
    "from arcgis.features import FeatureLayer, GeoAccessor"
   ]
  },
  {
   "cell_type": "markdown",
   "metadata": {},
   "source": [
    "Given the data we are accessing is licensed, we need to supply for login credentials allocated to use the data. Therefore, the same GIS() object created now needs to be authenticated. \n",
    "\n",
    "Starting from scratch here would be the steps (John Fay):\n",
    "* Open up a generic ArcGIS Online page: https://arcgis.com\n",
    "* Search for the data you want, i.e. enter `USA Flood Hazard Areas` in the search area.\n",
    " * You can filter the results to show just **Layers**, then **Imagery Layers**...\n",
    "* Eventually you should find the resource we want:<br>https://www.arcgis.com/home/item.html?id=11955f1b47ec41a3af86650824e0c634\n",
    "* Note the URL of the resource: it contains the resource's unique ID: `11955f1b47ec41a3af86650824e0c634`\n",
    "* Use that ID to access the data via the `gis.content.get()` command."
   ]
  },
  {
   "cell_type": "code",
   "execution_count": 2,
   "metadata": {},
   "outputs": [
    {
     "name": "stdout",
     "output_type": "stream",
     "text": [
      "Enter password: ········\n"
     ]
    }
   ],
   "source": [
    "gis = GIS('https://NSOE.maps.arcgis.com','aj297_790')"
   ]
  },
  {
   "cell_type": "code",
   "execution_count": 3,
   "metadata": {},
   "outputs": [
    {
     "name": "stdout",
     "output_type": "stream",
     "text": [
      "Logged in as: aj297_790\n"
     ]
    }
   ],
   "source": [
    "print(\"Logged in as: \" + gis.properties.user.username)"
   ]
  },
  {
   "cell_type": "code",
   "execution_count": 4,
   "metadata": {},
   "outputs": [],
   "source": [
    "#Get the flood hazard image layer service\n",
    "flood_layer_service = gis.content.get('11955f1b47ec41a3af86650824e0c634')"
   ]
  },
  {
   "cell_type": "code",
   "execution_count": 11,
   "metadata": {},
   "outputs": [
    {
     "data": {
      "text/plain": [
       "[<ImageryLayer url:\"https://landscape11.arcgis.com/arcgis/rest/services/USA_Flood_Hazard_Areas/ImageServer\">]"
      ]
     },
     "execution_count": 11,
     "metadata": {},
     "output_type": "execute_result"
    }
   ],
   "source": [
    "flood_layer_service.layers #Reveal the image layers in the image service"
   ]
  },
  {
   "cell_type": "code",
   "execution_count": 12,
   "metadata": {},
   "outputs": [],
   "source": [
    "flood_layer = flood_layer_service.layers[0] #Access only one image at a time"
   ]
  },
  {
   "cell_type": "code",
   "execution_count": 14,
   "metadata": {},
   "outputs": [],
   "source": [
    "theExits = GeoAccessor.from_featureclass('../Data/MJBA/Exits.shp')\n",
    "#Exit data accessed to allocate flood zone marking on it"
   ]
  },
  {
   "cell_type": "code",
   "execution_count": 16,
   "metadata": {},
   "outputs": [],
   "source": [
    "thePoint = theExits.loc[0,'SHAPE']"
   ]
  },
  {
   "cell_type": "code",
   "execution_count": 17,
   "metadata": {},
   "outputs": [
    {
     "data": {
      "text/plain": [
       "{'objectId': 0,\n",
       " 'name': 'Pixel',\n",
       " 'value': '8',\n",
       " 'location': {'x': -9385825.353333894,\n",
       "  'y': 4166530.324168181,\n",
       "  'spatialReference': {'wkid': 102100, 'latestWkid': 3857}},\n",
       " 'properties': None,\n",
       " 'catalogItems': None,\n",
       " 'catalogItemVisibilities': []}"
      ]
     },
     "execution_count": 17,
     "metadata": {},
     "output_type": "execute_result"
    }
   ],
   "source": [
    "theResult = flood_layer.identify(thePoint,return_catalog_items=False)\n",
    "theResult\n",
    "#the identify function is used to identify the pixel value (flood zone in this case)\n",
    "#at a particular location"
   ]
  },
  {
   "cell_type": "code",
   "execution_count": 18,
   "metadata": {},
   "outputs": [
    {
     "data": {
      "text/plain": [
       "8"
      ]
     },
     "execution_count": 18,
     "metadata": {},
     "output_type": "execute_result"
    }
   ],
   "source": [
    "theAttributes = flood_layer.attribute_table()['features']\n",
    "len(theAttributes)"
   ]
  },
  {
   "cell_type": "code",
   "execution_count": 19,
   "metadata": {},
   "outputs": [
    {
     "data": {
      "text/plain": [
       "['1% Annual Chance Flood Hazard',\n",
       " 'Regulatory Floodway',\n",
       " 'Special Floodway',\n",
       " 'Area of Undetermined Flood Hazard',\n",
       " '0.2% Annual Chance Flood Hazard',\n",
       " 'Future Conditions 1% Annual Chance Flood Hazard',\n",
       " 'Area with Reduced Risk Due to Levee',\n",
       " 'Area of Minimal Flood Hazard']"
      ]
     },
     "execution_count": 19,
     "metadata": {},
     "output_type": "execute_result"
    }
   ],
   "source": [
    "#Create an empty list to hold the class values\n",
    "classNames = []\n",
    "#Iterate through all the Attribute values, extract the ClassValue, and add to the list\n",
    "for theAttribute in theAttributes:\n",
    "    className = theAttribute['attributes']['ClassName']\n",
    "    classNames.append(className)\n",
    "classNames"
   ]
  },
  {
   "cell_type": "code",
   "execution_count": 20,
   "metadata": {},
   "outputs": [
    {
     "data": {
      "text/plain": [
       "'Area of Minimal Flood Hazard'"
      ]
     },
     "execution_count": 20,
     "metadata": {},
     "output_type": "execute_result"
    }
   ],
   "source": [
    "theValue = theResult['value']\n",
    "classNames[int(theValue) - 1]"
   ]
  },
  {
   "cell_type": "code",
   "execution_count": 21,
   "metadata": {},
   "outputs": [],
   "source": [
    "def getFloodClass(thePoint):\n",
    "    return classNames[int(flood_layer.identify(thePoint)['value'])-1]\n",
    "##-1 since index starts from 0 "
   ]
  },
  {
   "cell_type": "markdown",
   "metadata": {},
   "source": [
    "And then we can apply this function to all items in the \"SHAPE\" field of our spatial dataframe (this should take a few moments as it's pinging ESRIs server for each exit) (John Fay) "
   ]
  },
  {
   "cell_type": "code",
   "execution_count": 22,
   "metadata": {},
   "outputs": [],
   "source": [
    "#Apply the \"getFloodClass()\" function to each point\n",
    "theExits['Flood_Zone'] = theExits['SHAPE'].apply(lambda x: getFloodClass(x))"
   ]
  },
  {
   "cell_type": "code",
   "execution_count": 25,
   "metadata": {},
   "outputs": [],
   "source": [
    "#Save our modified dataframe to a csv\n",
    "theExits.to_csv('../Data/Processed/exits_with_flood.csv')"
   ]
  },
  {
   "cell_type": "code",
   "execution_count": 26,
   "metadata": {},
   "outputs": [
    {
     "data": {
      "text/plain": [
       "'../Data/Processed/exits_flood.shp'"
      ]
     },
     "execution_count": 26,
     "metadata": {},
     "output_type": "execute_result"
    }
   ],
   "source": [
    "#Save out modified dataframe to a shapefile\n",
    "theExits.spatial.to_featureclass('../Data/Processed/exits_flood.shp')"
   ]
  }
 ],
 "metadata": {
  "kernelspec": {
   "display_name": "Python 3",
   "language": "python",
   "name": "python3"
  },
  "language_info": {
   "codemirror_mode": {
    "name": "ipython",
    "version": 3
   },
   "file_extension": ".py",
   "mimetype": "text/x-python",
   "name": "python",
   "nbconvert_exporter": "python",
   "pygments_lexer": "ipython3",
   "version": "3.7.3"
  }
 },
 "nbformat": 4,
 "nbformat_minor": 2
}
