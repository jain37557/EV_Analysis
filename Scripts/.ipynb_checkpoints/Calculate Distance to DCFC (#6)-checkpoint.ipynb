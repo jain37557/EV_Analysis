{
 "cells": [
  {
   "cell_type": "markdown",
   "metadata": {},
   "source": [
    "# GIS Practicum: Energy \n",
    "## Citing Optimal EV DCFC Locations in North Carolina\n",
    "#### Abhishek Sanjay Jain, Duke University Nicholas School of the Environment (aj297@duke.edu) \n",
    "Code: Calculate Distance to the nearest charger (#6)\n",
    "\n",
    "Purpose: We fetch the exits data to understand where can these DCFCs be placed along highway corrdiors to minimize range anxiety to support growth of EVs in North Carolina. \n",
    "\n",
    "Methodology:\n",
    "1. This is done to compute data between an exit and the nearest exisiting DCFC charger. \n",
    "2. Import all exits data. \n",
    "3. Convert flood zone data CSV into geo data frame. \n",
    "4. Create point object with longitude and latitude data pair.\n",
    "5. Create geodataframe from the point object by specifying the CRS as \n",
    "6. We convert our data into the same CRS system. \n",
    "7. Create one multipoint geometry object. \n",
    "8. Create a function which uses nearest point function and returns the value in miles. \n",
    "9. Apply for all exit data, then save into a CSV file. "
   ]
  },
  {
   "cell_type": "code",
   "execution_count": 9,
   "metadata": {},
   "outputs": [],
   "source": [
    "#Import packages\n",
    "import pandas as pd\n",
    "import geopandas as gpd\n",
    "from shapely.geometry import Point\n",
    "from shapely.ops import nearest_points"
   ]
  },
  {
   "cell_type": "code",
   "execution_count": 10,
   "metadata": {},
   "outputs": [
    {
     "data": {
      "text/plain": [
       "geopandas.geodataframe.GeoDataFrame"
      ]
     },
     "execution_count": 10,
     "metadata": {},
     "output_type": "execute_result"
    }
   ],
   "source": [
    "exits_gdf = gpd.read_file('../Data/MJBA/Exits.shp')\n",
    "type(exits_gdf)"
   ]
  },
  {
   "cell_type": "code",
   "execution_count": 11,
   "metadata": {},
   "outputs": [
    {
     "data": {
      "text/html": [
       "<div>\n",
       "<style scoped>\n",
       "    .dataframe tbody tr th:only-of-type {\n",
       "        vertical-align: middle;\n",
       "    }\n",
       "\n",
       "    .dataframe tbody tr th {\n",
       "        vertical-align: top;\n",
       "    }\n",
       "\n",
       "    .dataframe thead th {\n",
       "        text-align: right;\n",
       "    }\n",
       "</style>\n",
       "<table border=\"1\" class=\"dataframe\">\n",
       "  <thead>\n",
       "    <tr style=\"text-align: right;\">\n",
       "      <th></th>\n",
       "      <th>latitude</th>\n",
       "      <th>longitude</th>\n",
       "    </tr>\n",
       "  </thead>\n",
       "  <tbody>\n",
       "    <tr>\n",
       "      <th>0</th>\n",
       "      <td>35.392063</td>\n",
       "      <td>-80.622777</td>\n",
       "    </tr>\n",
       "    <tr>\n",
       "      <th>1</th>\n",
       "      <td>35.042419</td>\n",
       "      <td>-78.956747</td>\n",
       "    </tr>\n",
       "    <tr>\n",
       "      <th>2</th>\n",
       "      <td>36.063557</td>\n",
       "      <td>-79.503697</td>\n",
       "    </tr>\n",
       "    <tr>\n",
       "      <th>3</th>\n",
       "      <td>35.970518</td>\n",
       "      <td>-78.956848</td>\n",
       "    </tr>\n",
       "    <tr>\n",
       "      <th>4</th>\n",
       "      <td>35.261109</td>\n",
       "      <td>-81.139708</td>\n",
       "    </tr>\n",
       "  </tbody>\n",
       "</table>\n",
       "</div>"
      ],
      "text/plain": [
       "    latitude  longitude\n",
       "0  35.392063 -80.622777\n",
       "1  35.042419 -78.956747\n",
       "2  36.063557 -79.503697\n",
       "3  35.970518 -78.956848\n",
       "4  35.261109 -81.139708"
      ]
     },
     "execution_count": 11,
     "metadata": {},
     "output_type": "execute_result"
    }
   ],
   "source": [
    "#Import DCFC csv as a Pandas dataframe, importing only the longitude and latitude columns\n",
    "dcfc_df = pd.read_csv('../Data/NREL/DCFC.csv',usecols=['longitude','latitude'])"
   ]
  },
  {
   "cell_type": "code",
   "execution_count": 12,
   "metadata": {},
   "outputs": [
    {
     "data": {
      "text/plain": [
       "[<shapely.geometry.point.Point at 0x7f569a74e710>,\n",
       " <shapely.geometry.point.Point at 0x7f569a74e160>,\n",
       " <shapely.geometry.point.Point at 0x7f569a74e908>,\n",
       " <shapely.geometry.point.Point at 0x7f569a74e358>,\n",
       " <shapely.geometry.point.Point at 0x7f569a74e240>]"
      ]
     },
     "execution_count": 12,
     "metadata": {},
     "output_type": "execute_result"
    }
   ],
   "source": [
    "#Construct points from long/lat pairs\n",
    "geom = [Point(xy) for xy in zip(dcfc_df['longitude'],dcfc_df['latitude'])]"
   ]
  },
  {
   "cell_type": "code",
   "execution_count": 13,
   "metadata": {},
   "outputs": [
    {
     "data": {
      "image/png": "[encoded data removed]",
      "text/plain": [
       "<Figure size 432x288 with 1 Axes>"
      ]
     },
     "metadata": {
      "needs_background": "light"
     },
     "output_type": "display_data"
    }
   ],
   "source": [
    "#Convert to a spatial dataframe\n",
    "dcfc_gdf = gpd.GeoDataFrame(dcfc_df,geometry=geom,crs=4326)\n",
    "#Show the results\n",
    "dcfc_gdf.plot();"
   ]
  },
  {
   "cell_type": "code",
   "execution_count": 14,
   "metadata": {},
   "outputs": [
    {
     "name": "stdout",
     "output_type": "stream",
     "text": [
      "epsg:4326\n",
      "epsg:4326\n"
     ]
    }
   ],
   "source": [
    "#Reveal crfs of each\n",
    "print(exits_gdf.crs)\n",
    "print(dcfc_gdf.crs)"
   ]
  },
  {
   "cell_type": "code",
   "execution_count": 15,
   "metadata": {},
   "outputs": [],
   "source": [
    "#Transform to a projected crf\n",
    "exits_gdf = exits_gdf.to_crs(32617)\n",
    "dcfc_gdf = dcfc_gdf.to_crs(32617)"
   ]
  },
  {
   "cell_type": "code",
   "execution_count": 16,
   "metadata": {},
   "outputs": [
    {
     "name": "stdout",
     "output_type": "stream",
     "text": [
      "epsg:32617\n",
      "epsg:32617\n"
     ]
    }
   ],
   "source": [
    "#Reveal crfs of each: they should be different\n",
    "print(exits_gdf.crs)\n",
    "print(dcfc_gdf.crs)"
   ]
  },
  {
   "cell_type": "code",
   "execution_count": 17,
   "metadata": {},
   "outputs": [],
   "source": [
    "#Collapse the dcfc points into one multipoint object\n",
    "mp_dcfc = dcfc_gdf['geometry'].unary_union"
   ]
  },
  {
   "cell_type": "code",
   "execution_count": 21,
   "metadata": {},
   "outputs": [],
   "source": [
    "#Put it all together in a function\n",
    "def distance_to_dcfc(from_point,to_points):\n",
    "    distance=from_point.distance(nearest_points(from_point,to_points)[1])\n",
    "    #Convert to miles\n",
    "    return int(distance/1609.34)"
   ]
  },
  {
   "cell_type": "code",
   "execution_count": 22,
   "metadata": {},
   "outputs": [
    {
     "data": {
      "text/plain": [
       "103"
      ]
     },
     "execution_count": 22,
     "metadata": {},
     "output_type": "execute_result"
    }
   ],
   "source": [
    "distance_to_dcfc(thePoint,mp_dcfc)"
   ]
  },
  {
   "cell_type": "code",
   "execution_count": 23,
   "metadata": {},
   "outputs": [
    {
     "data": {
      "text/html": [
       "<div>\n",
       "<style scoped>\n",
       "    .dataframe tbody tr th:only-of-type {\n",
       "        vertical-align: middle;\n",
       "    }\n",
       "\n",
       "    .dataframe tbody tr th {\n",
       "        vertical-align: top;\n",
       "    }\n",
       "\n",
       "    .dataframe thead th {\n",
       "        text-align: right;\n",
       "    }\n",
       "</style>\n",
       "<table border=\"1\" class=\"dataframe\">\n",
       "  <thead>\n",
       "    <tr style=\"text-align: right;\">\n",
       "      <th></th>\n",
       "      <th>FID</th>\n",
       "      <th>Exit_ID</th>\n",
       "      <th>Longitude</th>\n",
       "      <th>Latitude</th>\n",
       "      <th>County</th>\n",
       "      <th>State</th>\n",
       "      <th>Highway</th>\n",
       "      <th>Type</th>\n",
       "      <th>AADT</th>\n",
       "      <th>Pop_dens</th>\n",
       "      <th>Comm_1mi</th>\n",
       "      <th>Ports_5mi</th>\n",
       "      <th>Ports_10mi</th>\n",
       "      <th>Ports_20mi</th>\n",
       "      <th>Close_nonT</th>\n",
       "      <th>geometry</th>\n",
       "      <th>Dist_to_DCFC</th>\n",
       "    </tr>\n",
       "  </thead>\n",
       "  <tbody>\n",
       "    <tr>\n",
       "      <th>0</th>\n",
       "      <td>7059</td>\n",
       "      <td>US-64_Cherokee_NC_Exit_1</td>\n",
       "      <td>-84.314304</td>\n",
       "      <td>35.019492</td>\n",
       "      <td>Cherokee</td>\n",
       "      <td>NC</td>\n",
       "      <td>U.S. Highway 64</td>\n",
       "      <td>Exit/Intersection</td>\n",
       "      <td>3700</td>\n",
       "      <td>60.34979</td>\n",
       "      <td>1</td>\n",
       "      <td>0</td>\n",
       "      <td>0</td>\n",
       "      <td>0</td>\n",
       "      <td>34.094152</td>\n",
       "      <td>POINT (197578.012 3880227.389)</td>\n",
       "      <td>103</td>\n",
       "    </tr>\n",
       "    <tr>\n",
       "      <th>1</th>\n",
       "      <td>7060</td>\n",
       "      <td>US-64_Cherokee_NC_Exit_2</td>\n",
       "      <td>-84.311492</td>\n",
       "      <td>35.014933</td>\n",
       "      <td>Cherokee</td>\n",
       "      <td>NC</td>\n",
       "      <td>U.S. Highway 64</td>\n",
       "      <td>Exit/Intersection</td>\n",
       "      <td>3700</td>\n",
       "      <td>60.34979</td>\n",
       "      <td>1</td>\n",
       "      <td>0</td>\n",
       "      <td>0</td>\n",
       "      <td>0</td>\n",
       "      <td>34.365230</td>\n",
       "      <td>POINT (197817.907 3879713.054)</td>\n",
       "      <td>102</td>\n",
       "    </tr>\n",
       "    <tr>\n",
       "      <th>2</th>\n",
       "      <td>7061</td>\n",
       "      <td>US-64_Cherokee_NC_Exit_3</td>\n",
       "      <td>-84.295528</td>\n",
       "      <td>35.013561</td>\n",
       "      <td>Cherokee</td>\n",
       "      <td>NC</td>\n",
       "      <td>U.S. Highway 64</td>\n",
       "      <td>Exit/Intersection</td>\n",
       "      <td>3900</td>\n",
       "      <td>60.34979</td>\n",
       "      <td>0</td>\n",
       "      <td>0</td>\n",
       "      <td>0</td>\n",
       "      <td>0</td>\n",
       "      <td>35.233979</td>\n",
       "      <td>POINT (199270.172 3879512.464)</td>\n",
       "      <td>102</td>\n",
       "    </tr>\n",
       "    <tr>\n",
       "      <th>3</th>\n",
       "      <td>7062</td>\n",
       "      <td>US-64_Cherokee_NC_Exit_4</td>\n",
       "      <td>-84.280291</td>\n",
       "      <td>35.012880</td>\n",
       "      <td>Cherokee</td>\n",
       "      <td>NC</td>\n",
       "      <td>U.S. Highway 64</td>\n",
       "      <td>Exit/Intersection</td>\n",
       "      <td>3900</td>\n",
       "      <td>60.34979</td>\n",
       "      <td>0</td>\n",
       "      <td>0</td>\n",
       "      <td>0</td>\n",
       "      <td>0</td>\n",
       "      <td>36.048303</td>\n",
       "      <td>POINT (200658.638 3879391.092)</td>\n",
       "      <td>101</td>\n",
       "    </tr>\n",
       "    <tr>\n",
       "      <th>4</th>\n",
       "      <td>7063</td>\n",
       "      <td>US-64_Cherokee_NC_Exit_5</td>\n",
       "      <td>-84.275190</td>\n",
       "      <td>35.017816</td>\n",
       "      <td>Cherokee</td>\n",
       "      <td>NC</td>\n",
       "      <td>U.S. Highway 64</td>\n",
       "      <td>Exit/Intersection</td>\n",
       "      <td>3900</td>\n",
       "      <td>60.34979</td>\n",
       "      <td>0</td>\n",
       "      <td>0</td>\n",
       "      <td>0</td>\n",
       "      <td>0</td>\n",
       "      <td>36.186597</td>\n",
       "      <td>POINT (201142.266 3879923.503)</td>\n",
       "      <td>100</td>\n",
       "    </tr>\n",
       "  </tbody>\n",
       "</table>\n",
       "</div>"
      ],
      "text/plain": [
       "    FID                   Exit_ID  Longitude   Latitude    County State  \\\n",
       "0  7059  US-64_Cherokee_NC_Exit_1 -84.314304  35.019492  Cherokee    NC   \n",
       "1  7060  US-64_Cherokee_NC_Exit_2 -84.311492  35.014933  Cherokee    NC   \n",
       "2  7061  US-64_Cherokee_NC_Exit_3 -84.295528  35.013561  Cherokee    NC   \n",
       "3  7062  US-64_Cherokee_NC_Exit_4 -84.280291  35.012880  Cherokee    NC   \n",
       "4  7063  US-64_Cherokee_NC_Exit_5 -84.275190  35.017816  Cherokee    NC   \n",
       "\n",
       "           Highway               Type  AADT  Pop_dens  Comm_1mi  Ports_5mi  \\\n",
       "0  U.S. Highway 64  Exit/Intersection  3700  60.34979         1          0   \n",
       "1  U.S. Highway 64  Exit/Intersection  3700  60.34979         1          0   \n",
       "2  U.S. Highway 64  Exit/Intersection  3900  60.34979         0          0   \n",
       "3  U.S. Highway 64  Exit/Intersection  3900  60.34979         0          0   \n",
       "4  U.S. Highway 64  Exit/Intersection  3900  60.34979         0          0   \n",
       "\n",
       "   Ports_10mi  Ports_20mi  Close_nonT                        geometry  \\\n",
       "0           0           0   34.094152  POINT (197578.012 3880227.389)   \n",
       "1           0           0   34.365230  POINT (197817.907 3879713.054)   \n",
       "2           0           0   35.233979  POINT (199270.172 3879512.464)   \n",
       "3           0           0   36.048303  POINT (200658.638 3879391.092)   \n",
       "4           0           0   36.186597  POINT (201142.266 3879923.503)   \n",
       "\n",
       "   Dist_to_DCFC  \n",
       "0           103  \n",
       "1           102  \n",
       "2           102  \n",
       "3           101  \n",
       "4           100  "
      ]
     },
     "execution_count": 23,
     "metadata": {},
     "output_type": "execute_result"
    }
   ],
   "source": [
    "exits_gdf['Dist_to_DCFC']=exits_gdf['geometry'].apply(lambda x: distance_to_dcfc(x,mp_dcfc))"
   ]
  },
  {
   "cell_type": "code",
   "execution_count": 25,
   "metadata": {},
   "outputs": [],
   "source": [
    "exits_gdf.to_file('../Data/Processed/Exits_distance_to_DCFC.shp')"
   ]
  }
 ],
 "metadata": {
  "kernelspec": {
   "display_name": "Python 3",
   "language": "python",
   "name": "python3"
  },
  "language_info": {
   "codemirror_mode": {
    "name": "ipython",
    "version": 3
   },
   "file_extension": ".py",
   "mimetype": "text/x-python",
   "name": "python",
   "nbconvert_exporter": "python",
   "pygments_lexer": "ipython3",
   "version": "3.7.3"
  }
 },
 "nbformat": 4,
 "nbformat_minor": 2
}
