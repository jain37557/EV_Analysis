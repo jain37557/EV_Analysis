{
 "cells": [
  {
   "cell_type": "markdown",
   "metadata": {},
   "source": [
    "# GIS Practicum: Energy \n",
    "## Citing Optimal EV DCFC Locations in North Carolina\n",
    "#### Abhishek Sanjay Jain, Duke University Nicholas School of the Environment (aj297@duke.edu) \n",
    "Code: Fetch NC Exit Locations (#1)\n",
    "\n",
    "Purpose: We fetch the exits data to understand where can these DCFCs be placed along highway corrdiors to minimize range anxiety to support growth of EVs in North Carolina. \n",
    "\n",
    "Methodology: \n",
    "1. Import ArcGIS FeatureLayer class to obtain .shp files\n",
    "2. Using the FeatureLayer class, make an object from the MJBA Data REST End Point \n",
    "3. Query Features for those only in NC. \n",
    "4. Using the object from REST endpoint, create a spatially enabled DataFrame. \n",
    "5. Create a .shp file for the data obtained here. \n"
   ]
  },
  {
   "cell_type": "code",
   "execution_count": 2,
   "metadata": {},
   "outputs": [],
   "source": [
    "from arcgis.features import FeatureLayer #Import Feature Layer"
   ]
  },
  {
   "cell_type": "code",
   "execution_count": 3,
   "metadata": {},
   "outputs": [],
   "source": [
    "theFeatureLayer = FeatureLayer('https://services7.arcgis.com/fqNd6NEGNf5qzQdv/ArcGIS/rest/services/TCI_NC_exits_2019_06_11_v1/FeatureServer/1')\n",
    "#Access the REST Endpoint for MJBA Data"
   ]
  },
  {
   "cell_type": "code",
   "execution_count": 4,
   "metadata": {},
   "outputs": [],
   "source": [
    "theFeatureSet = theFeatureLayer.query(\"STATE = 'NC'\") #Query for NC Data Only"
   ]
  },
  {
   "cell_type": "code",
   "execution_count": 5,
   "metadata": {},
   "outputs": [
    {
     "data": {
      "text/plain": [
       "'../Data/MJBA/Exits.shp'"
      ]
     },
     "execution_count": 5,
     "metadata": {},
     "output_type": "execute_result"
    }
   ],
   "source": [
    "theSDF = theFeatureSet.sdf\n",
    "theSDF.spatial.to_featureclass(location='../Data/MJBA/Exits') #Data Imported"
   ]
  }
 ],
 "metadata": {
  "kernelspec": {
   "display_name": "Python 3",
   "language": "python",
   "name": "python3"
  },
  "language_info": {
   "codemirror_mode": {
    "name": "ipython",
    "version": 3
   },
   "file_extension": ".py",
   "mimetype": "text/x-python",
   "name": "python",
   "nbconvert_exporter": "python",
   "pygments_lexer": "ipython3",
   "version": "3.7.3"
  }
 },
 "nbformat": 4,
 "nbformat_minor": 2
}
