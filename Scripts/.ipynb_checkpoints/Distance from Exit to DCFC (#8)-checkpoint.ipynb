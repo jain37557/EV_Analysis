{
 "cells": [
  {
   "cell_type": "markdown",
   "metadata": {},
   "source": [
    "# GIS Practicum: Energy \n",
    "## Citing Optimal EV DCFC Locations in North Carolina\n",
    "#### Abhishek Sanjay Jain, Duke University Nicholas School of the Environment (aj297@duke.edu) \n",
    "Code: Calculate Distance to the nearest charger (#6)\n",
    "\n",
    "Purpose: We fetch the exits data to understand where can these DCFCs be placed along highway corrdiors to minimize range anxiety to support growth of EVs in North Carolina. \n",
    "\n",
    "Methodology:\n",
    "1. Here instead of linear distance, we use driving distance to compute the drive from exit to DCFC\n",
    "2. Import OSM, DCFC and Exit data as geo data frames\n",
    "3. Identify unique network nodes for DCFC and Exits, append to their data frames. \n",
    "4. Calculated weighted mean for all nodes from each node, and cap them at 100 miles. \n",
    "5. For each DCFC node, find the least distance exit node ."
   ]
  },
  {
   "cell_type": "code",
   "execution_count": 1,
   "metadata": {},
   "outputs": [],
   "source": [
    "#Import packages\n",
    "import osmnx as ox\n",
    "import networkx as nx\n",
    "import geopandas as gpd\n",
    "import pandas as pd\n",
    "from shapely.geometry import Point"
   ]
  },
  {
   "cell_type": "markdown",
   "metadata": {},
   "source": [
    "We import all data. Convert DCFC data into GDF and assign the correct CRS. "
   ]
  },
  {
   "cell_type": "code",
   "execution_count": 2,
   "metadata": {},
   "outputs": [],
   "source": [
    "#Load in the NC road network\n",
    "nc_graph = ox.load_graphml('NC_roads.graphml',folder='../Data/OSM/')"
   ]
  },
  {
   "cell_type": "code",
   "execution_count": 3,
   "metadata": {},
   "outputs": [],
   "source": [
    "#Load in the DCFC locations as pandas dataframe\n",
    "dcfc_df = pd.read_csv('../Data/NREL/DCFC.csv')"
   ]
  },
  {
   "cell_type": "code",
   "execution_count": 4,
   "metadata": {},
   "outputs": [],
   "source": [
    "#Convert to a geopandas dataframe\n",
    "geom_points = [Point(xy) for xy in zip(dcfc_df['longitude'],dcfc_df['latitude'])]\n",
    "dcfc_gdf = gpd.GeoDataFrame(dcfc_df,geometry=geom_points,crs=4326)"
   ]
  },
  {
   "cell_type": "code",
   "execution_count": 5,
   "metadata": {},
   "outputs": [],
   "source": [
    "#Load exits as a geopandas dataframe\n",
    "exits_gdf = gpd.read_file('../Data/MJBA/Exits.shp')"
   ]
  },
  {
   "cell_type": "markdown",
   "metadata": {},
   "source": [
    "The function reads the point from our multi-point object. It gets the node and returns it from the \"yx tupple\""
   ]
  },
  {
   "cell_type": "code",
   "execution_count": 6,
   "metadata": {},
   "outputs": [],
   "source": [
    "#Define a function to extract the nearest node ID for a point object\n",
    "def get_nodeid(thePoint):\n",
    "    #Get the yx tuple\n",
    "    yx = (thePoint.y,thePoint.x)\n",
    "    #Fetch the node nearest the xy tuple\n",
    "    node_id = ox.get_nearest_node(nc_graph,yx)\n",
    "    #Return the node id\n",
    "    return node_id"
   ]
  },
  {
   "cell_type": "code",
   "execution_count": 7,
   "metadata": {},
   "outputs": [],
   "source": [
    "#Apply the function to each point in the DCFC geodataframe, adding node ID as a column\n",
    "dcfc_gdf['node_id'] = dcfc_gdf['geometry'].apply(get_nodeid)"
   ]
  },
  {
   "cell_type": "code",
   "execution_count": 8,
   "metadata": {},
   "outputs": [],
   "source": [
    "#Apply the function to each point in the Exits geodataframe, adding node ID as a column\n",
    "exits_gdf['node_id'] = exits_gdf['geometry'].apply(get_nodeid)"
   ]
  },
  {
   "cell_type": "code",
   "execution_count": 9,
   "metadata": {},
   "outputs": [],
   "source": [
    "#Create lists from the values, for later use\n",
    "nodes_dcfc = dcfc_gdf['node_id'].unique()\n",
    "nodes_exits = exits_gdf['node_id'].unique()"
   ]
  },
  {
   "cell_type": "markdown",
   "metadata": {},
   "source": [
    "To analyse all nodes at the same time, we can use the function networkx. "
   ]
  },
  {
   "cell_type": "code",
   "execution_count": 21,
   "metadata": {},
   "outputs": [
    {
     "data": {
      "text/plain": [
       "generator"
      ]
     },
     "execution_count": 21,
     "metadata": {},
     "output_type": "execute_result"
    }
   ],
   "source": [
    "#Compute all pairs lengths\n",
    "allDistPairs = nx.all_pairs_dijkstra_path_length(nc_graph,cutoff=100*1609.34,weight='length')\n",
    "type(allDistPairs)"
   ]
  },
  {
   "cell_type": "markdown",
   "metadata": {},
   "source": [
    "We get a generator because of the large results. Each item in a generator is a tuple. To get through all the data in a generator we have to use a loop function. It is essentially a node ID associated with the dict that holds the distance and Node ID for exits. "
   ]
  },
  {
   "cell_type": "code",
   "execution_count": 22,
   "metadata": {},
   "outputs": [],
   "source": [
    "#Loop through the results and extract the distances associated with DCFC nodes\n",
    "distance_data = {}\n",
    "for distItem in allDistPairs:\n",
    "    #Get the items in the tuple\n",
    "    startNode_id = distItem[0]\n",
    "    path_data = distItem[1]\n",
    "    #Check whether the start node occurs in the list of DCFC nodes\n",
    "    if startNode_id in nodes_dcfc:\n",
    "        #If so, get its end nodes as a Python set object...\n",
    "        endNodes = set(path_data.keys())\n",
    "        #Now intersect this set with the set of exit node IDs\n",
    "        valid_endNodes = endNodes.intersection(set(nodes_exits))\n",
    "        #See if the intersection has any members\n",
    "        if len(valid_endNodes) > 0:\n",
    "            #If so, loop through items\n",
    "            for node in valid_endNodes:\n",
    "                #Get the distance associated with the node\n",
    "                theDistance = path_data[node]\n",
    "                #See if node already in dict\n",
    "                if node in distance_data.keys():\n",
    "                    #If so, compare existing distance to new distance\n",
    "                    if distance_data[node] >= theDistance:\n",
    "                        #If it's greater, update with smaller\n",
    "                        distance_data[node] = theDistance\n",
    "                #And if the node has not yet been added, add it\n",
    "                else:\n",
    "                    distance_data[node] = theDistance"
   ]
  },
  {
   "cell_type": "code",
   "execution_count": 23,
   "metadata": {},
   "outputs": [
    {
     "data": {
      "text/html": [
       "<div>\n",
       "<style scoped>\n",
       "    .dataframe tbody tr th:only-of-type {\n",
       "        vertical-align: middle;\n",
       "    }\n",
       "\n",
       "    .dataframe tbody tr th {\n",
       "        vertical-align: top;\n",
       "    }\n",
       "\n",
       "    .dataframe thead th {\n",
       "        text-align: right;\n",
       "    }\n",
       "</style>\n",
       "<table border=\"1\" class=\"dataframe\">\n",
       "  <thead>\n",
       "    <tr style=\"text-align: right;\">\n",
       "      <th></th>\n",
       "      <th>node_id</th>\n",
       "      <th>distance</th>\n",
       "    </tr>\n",
       "  </thead>\n",
       "  <tbody>\n",
       "    <tr>\n",
       "      <th>0</th>\n",
       "      <td>195770883</td>\n",
       "      <td>4.219215</td>\n",
       "    </tr>\n",
       "    <tr>\n",
       "      <th>1</th>\n",
       "      <td>195397123</td>\n",
       "      <td>4.819433</td>\n",
       "    </tr>\n",
       "    <tr>\n",
       "      <th>2</th>\n",
       "      <td>373638664</td>\n",
       "      <td>21.317632</td>\n",
       "    </tr>\n",
       "    <tr>\n",
       "      <th>3</th>\n",
       "      <td>3115819531</td>\n",
       "      <td>7.618521</td>\n",
       "    </tr>\n",
       "    <tr>\n",
       "      <th>4</th>\n",
       "      <td>3737060875</td>\n",
       "      <td>5.318815</td>\n",
       "    </tr>\n",
       "  </tbody>\n",
       "</table>\n",
       "</div>"
      ],
      "text/plain": [
       "      node_id   distance\n",
       "0   195770883   4.219215\n",
       "1   195397123   4.819433\n",
       "2   373638664  21.317632\n",
       "3  3115819531   7.618521\n",
       "4  3737060875   5.318815"
      ]
     },
     "execution_count": 23,
     "metadata": {},
     "output_type": "execute_result"
    }
   ],
   "source": [
    "#Convert to a dataframe\n",
    "df_distance = pd.DataFrame()\n",
    "df_distance['node_id'] = distance_data.keys()\n",
    "df_distance['distance'] = distance_data.values()\n",
    "df_distance['distance'] = df_distance['distance'] / 1609.34\n",
    "df_distance.head()"
   ]
  },
  {
   "cell_type": "code",
   "execution_count": 24,
   "metadata": {},
   "outputs": [],
   "source": [
    "#Join the data to the exits data\n",
    "exits_gdf1 = pd.merge(left=exits_gdf,    #\"Left\" side dataframe of the merge\n",
    "                      right=df_distance, #\"Right\" side dataframe of the merge\n",
    "                      left_on='node_id', #Attribute on the left dataframe used to join the frames\n",
    "                      right_on='node_id',#Attribute on the right dataframe used to join the frames\n",
    "                      how='left')        #Type of join: \"left\" keeps all records in left dataframe  "
   ]
  },
  {
   "cell_type": "code",
   "execution_count": null,
   "metadata": {},
   "outputs": [],
   "source": [
    "#Save the data to a shapefile\n",
    "exits_gdf1.to_file('../Data/processed/exits_distance.shp')"
   ]
  },
  {
   "cell_type": "markdown",
   "metadata": {},
   "source": [
    "Here, the final product is the exits_distance.shp file. What it essentially tells you is the distance of a DCFC from an exit. I hope this makes sense. Thanks! "
   ]
  }
 ],
 "metadata": {
  "kernelspec": {
   "display_name": "Python 3",
   "language": "python",
   "name": "python3"
  },
  "language_info": {
   "codemirror_mode": {
    "name": "ipython",
    "version": 3
   },
   "file_extension": ".py",
   "mimetype": "text/x-python",
   "name": "python",
   "nbconvert_exporter": "python",
   "pygments_lexer": "ipython3",
   "version": "3.7.3"
  }
 },
 "nbformat": 4,
 "nbformat_minor": 2
}
