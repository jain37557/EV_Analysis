{
 "cells": [
  {
   "cell_type": "markdown",
   "metadata": {},
   "source": [
    "# GIS Practicum: Energy \n",
    "## Citing Optimal EV DCFC Locations in North Carolina\n",
    "#### Abhishek Sanjay Jain, Duke University Nicholas School of the Environment (aj297@duke.edu) \n",
    "Code: Fetch NREL DCFC Locations (#2)\n",
    "\n",
    "Purpose: We fetch the exits data to understand where can these DCFCs be placed along highway corrdiors to minimize range anxiety to support growth of EVs in North Carolina. \n",
    "\n",
    "Methodology: \n",
    "1. From the NREL REST Endpoint, obtain the data about the DCFC locations using a pandas data frame. \n",
    "2. You would need to sign up on the given url below to obtain a key to access the json data. \n",
    "3. The result will be imported as a dictionary. \n",
    "4. Convert dictionary into a pandas data frame. \n",
    "5. Eliminate the gas stations for conventional fuels. \n",
    "6. Since Tesla sites may not be available for everyone, we do not consider their sites. \n",
    "7. Save data as a csv for analysis. "
   ]
  },
  {
   "cell_type": "code",
   "execution_count": null,
   "metadata": {},
   "outputs": [],
   "source": [
    "import requests\n",
    "import pandas as pd"
   ]
  },
  {
   "cell_type": "code",
   "execution_count": 2,
   "metadata": {},
   "outputs": [],
   "source": [
    "key = \"XXXX\" # Get your own key "
   ]
  },
  {
   "cell_type": "code",
   "execution_count": 3,
   "metadata": {},
   "outputs": [],
   "source": [
    "# Service Request for the data \n",
    "baseURL = 'https://developer.nrel.gov/api/alt-fuel-stations/v1.json?'\n",
    "params = {\n",
    "    'api_key':key,                #Our key, to authenticate the service\n",
    "    'status':'E',                 #Request only currently open sites \n",
    "    'fuel_type':'ELEC',           #Request only Electric sites\n",
    "    'ev_charging_level':'dc_fast',#Request only DCFC sites\n",
    "    'state':'NC' ,                #Request only NC sites\n",
    "    'access':'public',            #Request only Public sites\n",
    "    'groups_with_access_code':'Public', #Request only sites open to Public\n",
    "    'limit':'all'                 #Don't cap results to first 200 (default)\n",
    "}"
   ]
  },
  {
   "cell_type": "code",
   "execution_count": 4,
   "metadata": {},
   "outputs": [
    {
     "name": "stdout",
     "output_type": "stream",
     "text": [
      "87 records retrieved\n"
     ]
    }
   ],
   "source": [
    "df_ALL = pd.DataFrame.from_dict(requests.get(baseURL,params).json()['fuel_stations'])"
   ]
  },
  {
   "cell_type": "code",
   "execution_count": 5,
   "metadata": {},
   "outputs": [],
   "source": [
    "#Removing the excess columns, verify this from the metadata and the attributes in the link. \n",
    "dropCols = [col for col in df_ALL.columns if col[:3] in ('bd_','cng','hy_','ng_','e85','lng','lpg')]\n",
    "dropCols += [col for col in df_ALL.columns if col[-2:] == 'fr']\n",
    "df_ALL.drop(columns = dropCols,inplace=True)"
   ]
  },
  {
   "cell_type": "code",
   "execution_count": 6,
   "metadata": {},
   "outputs": [],
   "source": [
    "df_DCFC = df_ALL.loc[df_ALL['ev_network'] != 'Tesla'].reset_index()"
   ]
  },
  {
   "cell_type": "code",
   "execution_count": 7,
   "metadata": {},
   "outputs": [],
   "source": [
    "df_DCFC.to_csv('../Data/NREL/DCFC.csv',index=False)"
   ]
  }
 ],
 "metadata": {
  "kernelspec": {
   "display_name": "Python 3",
   "language": "python",
   "name": "python3"
  },
  "language_info": {
   "codemirror_mode": {
    "name": "ipython",
    "version": 3
   },
   "file_extension": ".py",
   "mimetype": "text/x-python",
   "name": "python",
   "nbconvert_exporter": "python",
   "pygments_lexer": "ipython3",
   "version": "3.7.3"
  }
 },
 "nbformat": 4,
 "nbformat_minor": 2
}
